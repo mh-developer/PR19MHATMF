{
 "cells": [
  {
   "cell_type": "code",
   "execution_count": 1,
   "metadata": {},
   "outputs": [],
   "source": [
    "from csv import DictReader\n",
    "from datetime import datetime\n",
    "import numpy as np\n",
    "from operator import itemgetter, attrgetter\n",
    "import itertools\n",
    "\n",
    "%matplotlib inline\n",
    "%config InlineBackend.figure_formats = ['jpg']\n",
    "import matplotlib\n",
    "matplotlib.figure.Figure.__repr__ = lambda self: (\n",
    "    f\"<{self.__class__.__name__} size {self.bbox.size[0]:g}\"\n",
    "    f\"x{self.bbox.size[1]:g} with {len(self.axes)} Axes>\")\n",
    "\n",
    "import matplotlib.image as mpimg\n",
    "import matplotlib.pyplot as plt\n",
    "plt.style.use('PR.mplstyle')"
   ]
  },
  {
   "cell_type": "code",
   "execution_count": 2,
   "metadata": {},
   "outputs": [
    {
     "name": "stdout",
     "output_type": "stream",
     "text": [
      "Rank: 1\n",
      "Name: Wii Sports\n",
      "Platform: Wii\n",
      "Year: 2006\n",
      "Genre: Sports\n",
      "Publisher: Nintendo\n",
      "NA_Sales: 41.49\n",
      "EU_Sales: 29.02\n",
      "JP_Sales: 3.77\n",
      "Other_Sales: 8.46\n",
      "Global_Sales: 82.74\n"
     ]
    }
   ],
   "source": [
    "videogames_data = {}\n",
    "\n",
    "\n",
    "with open('../../podatki/vgsales.csv', 'rt', encoding='utf-8') as data:\n",
    "    for row in DictReader(data):\n",
    "        videogames_data[row['Rank']] = row\n",
    "                        \n",
    "\n",
    "# Primer branja iz slovarja podatkov\n",
    "for key, value in videogames_data.items():\n",
    "    for atribut, vrednost in value.items():\n",
    "        print(atribut + \": \" + vrednost)\n",
    "    break"
   ]
  }
 ],
 "metadata": {
  "kernelspec": {
   "display_name": "Python 3",
   "language": "python",
   "name": "python3"
  },
  "language_info": {
   "codemirror_mode": {
    "name": "ipython",
    "version": 3
   },
   "file_extension": ".py",
   "mimetype": "text/x-python",
   "name": "python",
   "nbconvert_exporter": "python",
   "pygments_lexer": "ipython3",
   "version": "3.7.2"
  },
  "nbTranslate": {
   "displayLangs": [
    "*"
   ],
   "hotkey": "alt-t",
   "langInMainMenu": true,
   "sourceLang": "en",
   "targetLang": "fr",
   "useGoogleTranslate": true
  }
 },
 "nbformat": 4,
 "nbformat_minor": 2
}
