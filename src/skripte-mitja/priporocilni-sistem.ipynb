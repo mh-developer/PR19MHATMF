{
 "cells": [
  {
   "cell_type": "markdown",
   "metadata": {},
   "source": [
    "# Priporočilni sistem"
   ]
  },
  {
   "cell_type": "code",
   "execution_count": 1,
   "metadata": {},
   "outputs": [],
   "source": [
    "from csv import DictReader\n",
    "from datetime import datetime\n",
    "import numpy as np\n",
    "from operator import itemgetter, attrgetter\n",
    "import itertools\n",
    "\n",
    "%matplotlib inline\n",
    "%config InlineBackend.figure_formats = ['jpg']\n",
    "import matplotlib\n",
    "matplotlib.figure.Figure.__repr__ = lambda self: (\n",
    "    f\"<{self.__class__.__name__} size {self.bbox.size[0]:g}\"\n",
    "    f\"x{self.bbox.size[1]:g} with {len(self.axes)} Axes>\")\n",
    "\n",
    "import matplotlib.image as mpimg\n",
    "import matplotlib.pyplot as plt\n",
    "plt.style.use('PR.mplstyle')"
   ]
  },
  {
   "cell_type": "code",
   "execution_count": 2,
   "metadata": {},
   "outputs": [
    {
     "name": "stdout",
     "output_type": "stream",
     "text": [
      "Rank: 1\n",
      "Name: Wii Sports\n",
      "Platform: Wii\n",
      "Year_of_Release: 2006\n",
      "Genre: Sports\n",
      "Publisher: Nintendo\n",
      "NA_players: 41.36\n",
      "EU_players: 28.96\n",
      "JP_players: 3.77\n",
      "Other_players: 8.45\n",
      "Global_players: 82.53\n",
      "Critic_Score: 76\n",
      "Critic_Count: 51\n",
      "User_Score: 8\n",
      "User_Count: 322\n",
      "Developer: Nintendo\n",
      "Rating: E\n"
     ]
    }
   ],
   "source": [
    "videogames_data = {}\n",
    "\n",
    "\n",
    "with open('../../podatki/video_game.csv', 'rt', encoding='utf-8') as data:\n",
    "    for row in DictReader(data):\n",
    "        videogames_data[row['Rank']] = row\n",
    "                        \n",
    "\n",
    "# Primer branja iz slovarja podatkov\n",
    "for key, value in videogames_data.items():\n",
    "    for atribut, vrednost in value.items():\n",
    "        print(atribut + \": \" + vrednost)\n",
    "    break"
   ]
  },
  {
   "cell_type": "markdown",
   "metadata": {},
   "source": [
    "#### Filtriranje podatkov glede na izbrane kategorije (Platform, minimal Year_of_Release, Genre, Publisher, Developer, Rating)"
   ]
  },
  {
   "cell_type": "markdown",
   "metadata": {},
   "source": [
    "Tukaj nastavimo parametre za filtriranje podatkov. Če katerega od parametrov ne želimo opredeliti, parameter nastavimo na prezen niz, kar pomeni, da se pri filtriranju ne bo upošteval."
   ]
  },
  {
   "cell_type": "code",
   "execution_count": 3,
   "metadata": {},
   "outputs": [],
   "source": [
    "platform = \"PS4\"\n",
    "min_year = \"2012\"\n",
    "max_year = \"2015\"\n",
    "genre = \"Sports\"\n",
    "publisher = \"Electronic Arts\"\n",
    "developer = \"EA Sports\"\n",
    "rating = \"E\""
   ]
  },
  {
   "cell_type": "code",
   "execution_count": 4,
   "metadata": {
    "scrolled": false
   },
   "outputs": [
    {
     "name": "stdout",
     "output_type": "stream",
     "text": [
      "Rank: 78, Name: FIFA 16, Platform: PS4, Year_of_Release: 2015, Genre: Sports, Publisher: Electronic Arts, NA_players: 1.12, EU_players: 6.12, JP_players: 0.06, Other_players: 1.28, Global_players: 8.57, Critic_Score: 82, Critic_Count: 42, User_Score: 4.3, User_Count: 896, Developer: EA Sports, Rating: E, \n",
      "\n",
      "Rank: 144, Name: FIFA 15, Platform: PS4, Year_of_Release: 2014, Genre: Sports, Publisher: Electronic Arts, NA_players: 0.8, EU_players: 4.33, JP_players: 0.05, Other_players: 0.9, Global_players: 6.08, Critic_Score: 82, Critic_Count: 47, User_Score: 5.7, User_Count: 988, Developer: EA Sports, Rating: E, \n",
      "\n",
      "Rank: 421, Name: Madden NFL 16, Platform: PS4, Year_of_Release: 2015, Genre: Sports, Publisher: Electronic Arts, NA_players: 2.34, EU_players: 0.3, JP_players: 0, Other_players: 0.6, Global_players: 3.24, Critic_Score: 83, Critic_Count: 37, User_Score: 5.9, User_Count: 180, Developer: EA Sports, Rating: E, \n",
      "\n",
      "Rank: 750, Name: Madden NFL 15, Platform: PS4, Year_of_Release: 2014, Genre: Sports, Publisher: Electronic Arts, NA_players: 1.54, EU_players: 0.25, JP_players: 0, Other_players: 0.4, Global_players: 2.19, Critic_Score: 81, Critic_Count: 37, User_Score: 6.1, User_Count: 208, Developer: EA Sports, Rating: E, \n",
      "\n",
      "Rank: 2308, Name: Madden NFL 25, Platform: PS4, Year_of_Release: 2013, Genre: Sports, Publisher: Electronic Arts, NA_players: 0.63, EU_players: 0.13, JP_players: 0, Other_players: 0.15, Global_players: 0.9, Critic_Score: 74, Critic_Count: 13, User_Score: 5.2, User_Count: 118, Developer: EA Sports, Rating: E, \n",
      "\n",
      "Rank: 6913, Name: NBA Live 14, Platform: PS4, Year_of_Release: 2013, Genre: Sports, Publisher: Electronic Arts, NA_players: 0.15, EU_players: 0.05, JP_players: 0, Other_players: 0.04, Global_players: 0.24, Critic_Score: 43, Critic_Count: 25, User_Score: 2.7, User_Count: 175, Developer: EA Sports, Rating: E, \n",
      "\n",
      "Rank: 6957, Name: NBA Live 15, Platform: PS4, Year_of_Release: 2014, Genre: Sports, Publisher: Electronic Arts, NA_players: 0.16, EU_players: 0.04, JP_players: 0, Other_players: 0.04, Global_players: 0.23, Critic_Score: 59, Critic_Count: 24, User_Score: 5.6, User_Count: 86, Developer: EA Sports, Rating: E, \n",
      "\n",
      "Rank: 8200, Name: NBA Live 16, Platform: PS4, Year_of_Release: 2015, Genre: Sports, Publisher: Electronic Arts, NA_players: 0.1, EU_players: 0.04, JP_players: 0, Other_players: 0.03, Global_players: 0.18, Critic_Score: 59, Critic_Count: 27, User_Score: 6.1, User_Count: 70, Developer: EA Sports, Rating: E, \n",
      "\n"
     ]
    }
   ],
   "source": [
    "filtrirane_igre = {}\n",
    "\n",
    "for key, value in videogames_data.items():\n",
    "    is_platform  = False\n",
    "    is_min_year  = False\n",
    "    is_max_year  = False\n",
    "    is_genre     = False\n",
    "    is_publisher = False\n",
    "    is_developer = False\n",
    "    is_rating    = False\n",
    "\n",
    "    for atribut, vrednost in value.items():\n",
    "        if (atribut == \"Platform\" and platform != \"\" and vrednost == platform):\n",
    "            is_platform = True\n",
    "        else:\n",
    "            if platform == \"\":\n",
    "                is_platform = True\n",
    "           \n",
    "        if (atribut == \"Year_of_Release\" and min_year != \"\" and vrednost >= min_year):\n",
    "            is_min_year = True\n",
    "        else:\n",
    "            if min_year == \"\":\n",
    "                is_min_year = True\n",
    "                \n",
    "        if (atribut == \"Year_of_Release\" and max_year != \"\" and vrednost <= max_year):\n",
    "            is_max_year = True\n",
    "        else:\n",
    "            if max_year == \"\":\n",
    "                is_max_year = True\n",
    "            \n",
    "        if (atribut == \"Genre\" and genre != \"\" and vrednost == genre):\n",
    "            is_genre = True\n",
    "        else:\n",
    "            if genre == \"\":\n",
    "                is_genre = True\n",
    "        \n",
    "        if (atribut == \"Publisher\" and publisher != \"\" and vrednost == publisher):\n",
    "            is_publisher = True\n",
    "        else:\n",
    "            if publisher == \"\":\n",
    "                is_publisher = True\n",
    "        \n",
    "        if (atribut == \"Developer\" and developer != \"\" and vrednost == developer):\n",
    "            is_developer = True\n",
    "        else:\n",
    "            if developer == \"\":\n",
    "                is_developer = True\n",
    "            \n",
    "        if (atribut == \"Rating\" and rating != \"\" and vrednost == rating):\n",
    "            is_rating = True\n",
    "        else:\n",
    "            if rating == \"\":\n",
    "                is_rating = True\n",
    "                \n",
    "    if is_platform and is_min_year and is_max_year and is_genre and is_publisher and is_developer and is_rating:   \n",
    "        filtrirane_igre[key] = value\n",
    "        \n",
    "        \n",
    "for key, value in filtrirane_igre.items():\n",
    "    for atribut, vrednost in value.items():\n",
    "        print(f'{atribut}: {vrednost}, ', end=\"\")\n",
    "    print()\n",
    "    print()"
   ]
  },
  {
   "cell_type": "markdown",
   "metadata": {},
   "source": [
    "### Priporočanje filtriranih iger, glede na Global_sales, Critic_Score, User_Score"
   ]
  },
  {
   "cell_type": "markdown",
   "metadata": {},
   "source": [
    "Filtrirane podatke, nato tukaj obdelam ter izračunam razmerja Global_sales, Critic_Score, User_Score in na podlagi teh rezultatov sistem priporoči in izpiše najboljše igre v padajočem vrstnem reku za ta filter podatkov."
   ]
  },
  {
   "cell_type": "code",
   "execution_count": 5,
   "metadata": {
    "scrolled": false
   },
   "outputs": [
    {
     "name": "stdout",
     "output_type": "stream",
     "text": [
      "FIFA 16: 366.078511627907\n",
      "\n",
      "FIFA 15: 193.05940425531912\n",
      "\n",
      "Madden NFL 16: 23.2825836005497\n",
      "\n",
      "Madden NFL 15: 17.16525299069561\n",
      "\n",
      "Madden NFL 25: 12.206715976331362\n",
      "\n",
      "NBA Live 14: 2.8093333333333326\n",
      "\n",
      "NBA Live 15: 0.9117343750000002\n",
      "\n",
      "NBA Live 16: 0.47393442622950815\n",
      "\n"
     ]
    }
   ],
   "source": [
    "najbolj_primerni = []\n",
    "\n",
    "for key, value in filtrirane_igre.items():\n",
    "    sales = filtrirane_igre[key]['Global_players']\n",
    "    critic_score = filtrirane_igre[key]['Critic_Score']\n",
    "    critic_count = filtrirane_igre[key]['Critic_Count']\n",
    "    user_score = filtrirane_igre[key]['User_Score']\n",
    "    user_count = filtrirane_igre[key]['User_Count']\n",
    "    name = filtrirane_igre[key]['Name']\n",
    "    \n",
    "#     print(f'{sales} {critic_score} {critic_count} {user_score} {user_count}')\n",
    "    if sales == \"\" or sales == \"NA\" or \\\n",
    "       critic_score == \"\" or critic_score == \"NA\" or \\\n",
    "       critic_count == \"\" or critic_count == \"NA\" or \\\n",
    "       user_score == \"\" or user_score == \"NA\" or \\\n",
    "       user_count == \"\" or user_count == \"NA\":\n",
    "        continue\n",
    "    \n",
    "    sales = float(filtrirane_igre[key]['Global_players'])\n",
    "    critic_score = float(filtrirane_igre[key]['Critic_Score'])\n",
    "    critic_count = float(filtrirane_igre[key]['Critic_Count'])\n",
    "    user_score = float(filtrirane_igre[key]['User_Score'])\n",
    "    user_count = float(filtrirane_igre[key]['User_Count'])\n",
    "    \n",
    "    ratio_critic = (critic_score / critic_count) * 0.35\n",
    "    ratio_user = (user_score / user_count) * 0.5 # user_count / user_score\n",
    "    ratio_sales = sales * 0.15 * (max(ratio_critic, ratio_user) / min(ratio_critic, ratio_user))\n",
    "    \n",
    "#     print(f'{name} {ratio_critic} {ratio_user} {ratio_sales}')\n",
    "#     print()\n",
    "    najbolj_primerni.append([value, ratio_sales])\n",
    "    \n",
    "najbolj_primerni = sorted(najbolj_primerni, reverse=True, key=itemgetter(1))\n",
    "\n",
    "for key, value in najbolj_primerni:\n",
    "    name = key['Name']\n",
    "    print(f'{name}: {value}')\n",
    "    print()"
   ]
  }
 ],
 "metadata": {
  "kernelspec": {
   "display_name": "Python 3",
   "language": "python",
   "name": "python3"
  },
  "language_info": {
   "codemirror_mode": {
    "name": "ipython",
    "version": 3
   },
   "file_extension": ".py",
   "mimetype": "text/x-python",
   "name": "python",
   "nbconvert_exporter": "python",
   "pygments_lexer": "ipython3",
   "version": "3.7.2"
  },
  "nbTranslate": {
   "displayLangs": [
    "*"
   ],
   "hotkey": "alt-t",
   "langInMainMenu": true,
   "sourceLang": "en",
   "targetLang": "fr",
   "useGoogleTranslate": true
  }
 },
 "nbformat": 4,
 "nbformat_minor": 2
}
