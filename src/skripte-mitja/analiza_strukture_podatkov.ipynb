{
 "cells": [
  {
   "cell_type": "code",
   "execution_count": 1,
   "metadata": {},
   "outputs": [],
   "source": [
    "from csv import DictReader\n",
    "from datetime import datetime\n",
    "import numpy as np\n",
    "from operator import itemgetter, attrgetter\n",
    "import itertools\n",
    "\n",
    "%matplotlib inline\n",
    "%config InlineBackend.figure_formats = ['jpg']\n",
    "import matplotlib\n",
    "matplotlib.figure.Figure.__repr__ = lambda self: (\n",
    "    f\"<{self.__class__.__name__} size {self.bbox.size[0]:g}\"\n",
    "    f\"x{self.bbox.size[1]:g} with {len(self.axes)} Axes>\")\n",
    "\n",
    "import matplotlib.image as mpimg\n",
    "import matplotlib.pyplot as plt\n",
    "plt.style.use('PR.mplstyle')"
   ]
  },
  {
   "cell_type": "code",
   "execution_count": 2,
   "metadata": {},
   "outputs": [
    {
     "name": "stdout",
     "output_type": "stream",
     "text": [
      "Rank: 1\n",
      "Name: Wii Sports\n",
      "Platform: Wii\n",
      "Year: 2006\n",
      "Genre: Sports\n",
      "Publisher: Nintendo\n",
      "NA_Sales: 41.49\n",
      "EU_Sales: 29.02\n",
      "JP_Sales: 3.77\n",
      "Other_Sales: 8.46\n",
      "Global_Sales: 82.74\n"
     ]
    }
   ],
   "source": [
    "videogames_data = {}\n",
    "\n",
    "\n",
    "with open('../../podatki/vgsales.csv', 'rt', encoding='utf-8') as data:\n",
    "    for row in DictReader(data):\n",
    "        videogames_data[row['Rank']] = row\n",
    "                        \n",
    "\n",
    "# Primer branja iz slovarja podatkov\n",
    "for key, value in videogames_data.items():\n",
    "    for atribut, vrednost in value.items():\n",
    "        print(atribut + \": \" + vrednost)\n",
    "    break"
   ]
  },
  {
   "cell_type": "markdown",
   "metadata": {},
   "source": [
    "### Najbolj popularne igre glede na trg (USA, EU, JPY, ostali)"
   ]
  },
  {
   "cell_type": "code",
   "execution_count": 3,
   "metadata": {},
   "outputs": [
    {
     "name": "stdout",
     "output_type": "stream",
     "text": [
      "OrderedDict([('Rank', '1'), ('Name', 'Wii Sports'), ('Platform', 'Wii'), ('Year', '2006'), ('Genre', 'Sports'), ('Publisher', 'Nintendo'), ('NA_Sales', '41.49'), ('EU_Sales', '29.02'), ('JP_Sales', '3.77'), ('Other_Sales', '8.46'), ('Global_Sales', '82.74')])\n",
      "OrderedDict([('Rank', '1'), ('Name', 'Wii Sports'), ('Platform', 'Wii'), ('Year', '2006'), ('Genre', 'Sports'), ('Publisher', 'Nintendo'), ('NA_Sales', '41.49'), ('EU_Sales', '29.02'), ('JP_Sales', '3.77'), ('Other_Sales', '8.46'), ('Global_Sales', '82.74')])\n",
      "OrderedDict([('Rank', '5'), ('Name', 'Pokemon Red/Pokemon Blue'), ('Platform', 'GB'), ('Year', '1996'), ('Genre', 'Role-Playing'), ('Publisher', 'Nintendo'), ('NA_Sales', '11.27'), ('EU_Sales', '8.89'), ('JP_Sales', '10.22'), ('Other_Sales', '1'), ('Global_Sales', '31.37')])\n",
      "OrderedDict([('Rank', '18'), ('Name', 'Grand Theft Auto: San Andreas'), ('Platform', 'PS2'), ('Year', '2004'), ('Genre', 'Action'), ('Publisher', 'Take-Two Interactive'), ('NA_Sales', '9.43'), ('EU_Sales', '0.4'), ('JP_Sales', '0.41'), ('Other_Sales', '10.57'), ('Global_Sales', '20.81')])\n",
      "OrderedDict([('Rank', '1'), ('Name', 'Wii Sports'), ('Platform', 'Wii'), ('Year', '2006'), ('Genre', 'Sports'), ('Publisher', 'Nintendo'), ('NA_Sales', '41.49'), ('EU_Sales', '29.02'), ('JP_Sales', '3.77'), ('Other_Sales', '8.46'), ('Global_Sales', '82.74')])\n"
     ]
    }
   ],
   "source": [
    "max_value = 0\n",
    "for key, value in videogames_data.items():\n",
    "    if max_value < float(value[\"NA_Sales\"]):\n",
    "        max_value = float(value[\"NA_Sales\"])\n",
    "        najjaci = value\n",
    "        \n",
    "print(najjaci)\n",
    "\n",
    "max_value = 0\n",
    "for key, value in videogames_data.items():\n",
    "    if max_value < float(value[\"EU_Sales\"]):\n",
    "        max_value = float(value[\"EU_Sales\"])\n",
    "        najjaci = value\n",
    "        \n",
    "print(najjaci)\n",
    "\n",
    "max_value = 0\n",
    "for key, value in videogames_data.items():\n",
    "    if max_value < float(value[\"JP_Sales\"]):\n",
    "        max_value = float(value[\"JP_Sales\"])\n",
    "        najjaci = value\n",
    "        \n",
    "print(najjaci)\n",
    "\n",
    "max_value = 0\n",
    "for key, value in videogames_data.items():\n",
    "    if max_value < float(value[\"Other_Sales\"]):\n",
    "        max_value = float(value[\"Other_Sales\"])\n",
    "        najjaci = value\n",
    "        \n",
    "print(najjaci)\n",
    "\n",
    "max_value = 0\n",
    "for key, value in videogames_data.items():\n",
    "    if max_value < float(value[\"Global_Sales\"]):\n",
    "        max_value = float(value[\"Global_Sales\"])\n",
    "        najjaci = value\n",
    "        \n",
    "print(najjaci)"
   ]
  },
  {
   "cell_type": "markdown",
   "metadata": {},
   "source": [
    "### Katere platforme imamo v podatkih"
   ]
  },
  {
   "cell_type": "code",
   "execution_count": 4,
   "metadata": {},
   "outputs": [
    {
     "name": "stdout",
     "output_type": "stream",
     "text": [
      "Platforme:\n",
      "Wii, NES, GB, DS, X360, PS3, PS2, SNES, GBA, 3DS, PS4, N64, PS, XB, PC, 2600, PSP, XOne, GC, WiiU, GEN, DC, PSV, SAT, SCD, WS, NG, TG16, 3DO, GG, PCFX, \n",
      "Število platform: 31\n"
     ]
    }
   ],
   "source": [
    "platforms_unique = []\n",
    "\n",
    "print(\"Platforme:\")\n",
    "for key, value in videogames_data.items():\n",
    "    if value[\"Platform\"] not in platforms_unique:\n",
    "        platforms_unique.append(value[\"Platform\"])\n",
    "        print(value[\"Platform\"], end=\", \")\n",
    "        \n",
    "print()\n",
    "print(\"Število platform:\", len(platforms_unique))"
   ]
  },
  {
   "cell_type": "markdown",
   "metadata": {},
   "source": [
    "### Katere žanre imamo v podatkih"
   ]
  },
  {
   "cell_type": "code",
   "execution_count": 5,
   "metadata": {},
   "outputs": [
    {
     "name": "stdout",
     "output_type": "stream",
     "text": [
      "Žanri:\n",
      "Sports, Platform, Racing, Role-Playing, Puzzle, Misc, Shooter, Simulation, Action, Fighting, Adventure, Strategy, \n",
      "Število žanrov: 12\n"
     ]
    }
   ],
   "source": [
    "genre_unique = []\n",
    "\n",
    "print(\"Žanri:\")\n",
    "for key, value in videogames_data.items():\n",
    "    if value[\"Genre\"] not in genre_unique:\n",
    "        genre_unique.append(value[\"Genre\"])\n",
    "        print(value[\"Genre\"], end=\", \")\n",
    "        \n",
    "print()\n",
    "print(\"Število žanrov:\", len(genre_unique))"
   ]
  },
  {
   "cell_type": "markdown",
   "metadata": {},
   "source": [
    "### Katere založnike imamo v podatkih"
   ]
  },
  {
   "cell_type": "code",
   "execution_count": 6,
   "metadata": {},
   "outputs": [
    {
     "name": "stdout",
     "output_type": "stream",
     "text": [
      "Založniki:\n",
      "Nintendo, Microsoft Game Studios, Take-Two Interactive, Sony Computer Entertainment, Activision, Ubisoft, Bethesda Softworks, Electronic Arts, Sega, SquareSoft, Atari, 505 Games, Capcom, GT Interactive, Konami Digital Entertainment, Sony Computer Entertainment Europe, Square Enix, LucasArts, Virgin Interactive, Warner Bros. Interactive Entertainment, Universal Interactive, Eidos Interactive, RedOctane, Vivendi Games, Enix Corporation, Namco Bandai Games, Palcom, Hasbro Interactive, THQ, Fox Interactive, Acclaim Entertainment, MTV Games, Disney Interactive Studios, N/A, Majesco Entertainment, Codemasters, Red Orb, Level 5, Arena Entertainment, Midway Games, JVC, Deep Silver, 989 Studios, NCSoft, UEP Systems, Parker Bros., Maxis, Imagic, Tecmo Koei, Valve Software, ASCII Entertainment, Mindscape, Infogrames, Unknown, Square, Valve, Activision Value, Banpresto, D3Publisher, Oxygen Interactive, Red Storm Entertainment, Video System, Hello Games, Global Star, Gotham Games, Westwood Studios, GungHo, Crave Entertainment, Hudson Soft, Coleco, Rising Star Games, Atlus, TDK Mediactive, ASC Games, Zoo Games, Accolade, Sony Online Entertainment, 3DO, RTL, Natsume, Focus Home Interactive, Alchemist, Black Label Games, SouthPeak Games, Mastertronic, Ocean, Zoo Digital Publishing, Psygnosis, City Interactive, Empire Interactive, Success, Compile, Russel, Taito, Agetec, GSP, Microprose, Play It, Slightly Mad Studios, Tomy Corporation, Sammy Corporation, Koch Media, Game Factory, Titus, Marvelous Entertainment, Genki, Mojang, Pinnacle, CTO SpA, TalonSoft, Crystal Dynamics, SCi, Quelle, mixi, Inc, Rage Software, Ubisoft Annecy, Scholastic Inc., Interplay, Mystique, ChunSoft, Square EA, 20th Century Fox Video Games, Avanquest Software, Hudson Entertainment, Nordic Games, Men-A-Vision, Nobilis, Big Ben Interactive, Touchstone, Spike, Jester Interactive, Nippon Ichi Software, LEGO Media, Quest, Illusion Softworks, Tigervision, Funbox Media, Rocket Company, Metro 3D, Mattel Interactive, IE Institute, Rondomedia, Sony Computer Entertainment America, Universal Gamex, Ghostlight, Wizard Video Games, BMG Interactive Entertainment, PQube, Trion Worlds, Laguna, Ignition Entertainment, Takara, Kadokawa Shoten, Destineer, Enterbrain, Xseed Games, Imagineer, System 3 Arcade Software, CPG Products, Aruze Corp, Gamebridge, Midas Interactive Entertainment, Jaleco, Answer Software, XS Games, Activision Blizzard, Pack In Soft, Rebellion, Xplosiv, Ultravision, GameMill Entertainment, Wanadoo, NovaLogic, Telltale Games, Epoch, BAM! Entertainment, Knowledge Adventure, Mastiff, Tetris Online, Harmonix Music Systems, ESP, TYO, Telegames, Mud Duck Productions, Screenlife, Pioneer LDC, Magical Company, Mentor Interactive, Kemco, Human Entertainment, Avanquest, Data Age, Electronic Arts Victor, Black Bean Games, Jack of All Games, 989 Sports, Takara Tomy, Media Rings, Elf, Kalypso Media, Starfish, Zushi Games, Jorudan, Destination Software, Inc, New, Brash Entertainment, ITT Family Games, PopCap Games, Home Entertainment Suppliers, Ackkstudios, Starpath Corp., P2 Games, BPS, Gathering of Developers, NewKidCo, Storm City Games, CokeM Interactive, CBS Electronics, Magix, Marvelous Interactive, Nihon Falcom Corporation, Wargaming.net, Angel Studios, Arc System Works, Playmates, SNK Playmore, Hamster Corporation, From Software, Nippon Columbia, Nichibutsu, Little Orbit, Conspiracy Entertainment, DTP Entertainment, Hect, Mumbo Jumbo, Pacific Century Cyber Works, Indie Games, Liquid Games, NEC, Axela, ArtDink, Sunsoft, Gust, SNK, NEC Interchannel, FuRyu, Xing Entertainment, ValuSoft, Victor Interactive, Detn8 Games, American Softworks, Nordcurrent, Bomb, Falcom Corporation, AQ Interactive, CCP, Milestone S.r.l., Sears, JoWood Productions, Seta Corporation, On Demand, NCS, Aspyr, Gremlin Interactive Ltd, Agatsuma Entertainment, Compile Heart, Culture Brain, Mad Catz, Shogakukan, Merscom LLC, Rebellion Developments, Nippon Telenet, TDK Core, bitComposer Games, Foreign Media Games, Astragon, SSI, Kadokawa Games, Idea Factory, Performance Designed Products, Asylum Entertainment, Core Design Ltd., PlayV, UFO Interactive, Idea Factory International, Playlogic Game Factory, Essential Games, Adeline Software, Funcom, Panther Software, Blast! Entertainment Ltd, Game Life, DSI Games, Avalon Interactive, Popcorn Arcade, Neko Entertainment, Vir2L Studios, Aques, Syscom, White Park Bay Software, System 3, Vatical Entertainment, Daedalic, EA Games, Media Factory, Vic Tokai, The Adventure Company, Game Arts, Broccoli, Acquire, General Entertainment, Excalibur Publishing, Imadio, Swing! Entertainment, Sony Music Entertainment, Aqua Plus, Paradox Interactive, Hip Interactive, DreamCatcher Interactive, Tripwire Interactive, Sting, Yacht Club Games, SCS Software, Bigben Interactive, Havas Interactive, Slitherine Software, Graffiti, Funsta, Telstar, U.S. Gold, DreamWorks Interactive, Data Design Interactive, MTO, DHM Interactive, FunSoft, SPS, Bohemia Interactive, Reef Entertainment, Tru Blu Entertainment, Moss, T&E Soft, O-Games, Aksys Games, NDA Productions, Data East, Time Warner Interactive, Gainax Network Systems, Daito, O3 Entertainment, Gameloft, Xicat Interactive, Simon & Schuster Interactive, Valcon Games, PopTop Software, TOHO, HMH Interactive, 5pb, Cave, CDV Software Entertainment, Microids, PM Studios, Paon, Micro Cabin, GameTek, Benesse, Type-Moon, Enjoy Gaming ltd., Asmik Corp, Interplay Productions, Asmik Ace Entertainment, inXile Entertainment, Image Epoch, Phantom EFX, Evolved Games, responDESIGN, Culture Publishers, Griffin International, Hackberry, Hearty Robin, Nippon Amuse, Origin Systems, Seventh Chord, Mitsui, Milestone, Abylight, Flight-Plan, Glams, Locus, Warp, Daedalic Entertainment, Alternative Software, Myelin Media, Mercury Games, Irem Software Engineering, Sunrise Interactive, Elite, Evolution Games, Tivola, Global A Entertainment, Edia, Athena, Aria, Gamecock, Tommo, Altron, Happinet, iWin, Media Works, Fortyfive, Revolution Software, Imax, Crimson Cow, 10TACLE Studios, Groove Games, Pack-In-Video, Insomniac Games, Ascaron Entertainment GmbH, Asgard, Ecole, Yumedia, Phenomedia, HAL Laboratory, Grand Prix Games, DigiCube, Creative Core, Kaga Create, WayForward Technologies, LSP Games, ASCII Media Works, Coconuts Japan, Arika, Ertain, Marvel Entertainment, Prototype, TopWare Interactive, Phantagram, 1C Company, The Learning Company, TechnoSoft, Vap, Misawa, Tradewest, Team17 Software, Yeti, Pow, Navarre Corp, MediaQuest, Max Five, Comfort, Monte Christo Multimedia, Pony Canyon, Riverhillsoft, Summitsoft, Milestone S.r.l, Playmore, MLB.com, Kool Kizz, Flashpoint Games, 49Games, Legacy Interactive, Alawar Entertainment, CyberFront, Cloud Imperium Games Corporation, Societa, Virtual Play Games, Interchannel, Sonnet, Experience Inc., Zenrin, Iceberg Interactive, Ivolgamus, 2D Boy, MC2 Entertainment, Kando Games, Just Flight, Office Create, Mamba Games, Fields, Princess Soft, Maximum Family Games, Berkeley, Fuji, Dusenberry Martin Racing, imageepoch Inc., Big Fish Games, Her Interactive, Kamui, ASK, Headup Games, KSS, Cygames, KID, Quinrose, Sunflowers, dramatic create, TGL, Encore, Extreme Entertainment Group, Intergrow, G.Rev, Sweets, Kokopeli Digital Studios, Number None, Nexon, id Software, BushiRoad, Tryfirst, Strategy First, 7G//AMES, GN Software, Yuke's, Easy Interactive, Licensed 4U, FuRyu Corporation, Lexicon Entertainment, Paon Corporation, Kids Station, GOA, Graphsim Entertainment, King Records, Introversion Software, Minato Station, Devolver Digital, Blue Byte, Gaga, Yamasa Entertainment, Plenty, Views, fonfun, NetRevo, Codemasters Online, Quintet, Phoenix Games, Dorart, Marvelous Games, Focus Multimedia, Imageworks, Karin Entertainment, Aerosoft, Technos Japan Corporation, Gakken, Mirai Shounen, Datam Polystar, Saurus, HuneX, Revolution (Japan), Giza10, Visco, Alvion, Mycom, Giga, Warashi, System Soft, Sold Out, Lighthouse Interactive, Masque Publishing, RED Entertainment, Michaelsoft, Media Entertainment, New World Computing, Genterprise, Interworks Unlimited, Inc., Boost On, Stainless Games, EON Digital Entertainment, Epic Games, Naxat Soft, Ascaron Entertainment, Piacci, Nitroplus, Paradox Development, Otomate, Ongakukan, Commseed, Inti Creates, Takuyo, Interchannel-Holon, Rain Games, UIG Entertainment, \n",
      "Število založnikov: 579\n"
     ]
    }
   ],
   "source": [
    "publisher_unique = []\n",
    "\n",
    "print(\"Založniki:\")\n",
    "for key, value in videogames_data.items():\n",
    "    if value[\"Publisher\"] not in publisher_unique:\n",
    "        publisher_unique.append(value[\"Publisher\"])\n",
    "        print(value[\"Publisher\"], end=\", \")\n",
    "        \n",
    "print()\n",
    "print(\"Število založnikov:\", len(publisher_unique))"
   ]
  },
  {
   "cell_type": "markdown",
   "metadata": {},
   "source": [
    "### Koliko izdaj imajo posamezne igre"
   ]
  },
  {
   "cell_type": "code",
   "execution_count": 7,
   "metadata": {},
   "outputs": [
    {
     "name": "stdout",
     "output_type": "stream",
     "text": [
      "Naziv igre | Število izdaj | Leta izdaje | Založnik \n",
      " - | - | - | -\n",
      "Need for Speed: Most Wanted | 12 | 2005, 2012, 2012, 2005, 2012, 2005, 2005, 2005, 2013, 2005, 2005, 2012 | Electronic Arts\n",
      "LEGO Marvel Super Heroes | 9 | 2013, 2013, 2013, 2013, 2013, 2013, 2013, 2013, 2013 | Warner Bros. Interactive Entertainment\n",
      "FIFA 14 | 9 | 2013, 2013, 2013, 2013, 2013, 2013, 2013, 2013, 2013 | Electronic Arts\n",
      "Ratatouille | 9 | 2007, 2007, 2007, 2007, 2007, 2007, 2007, 2007, 2007 | THQ\n",
      "Madden NFL 07 | 9 | 2006, 2006, 2006, N/A, 2006, 2006, 2006, 2006, 2006 | Electronic Arts, Unknown\n",
      "LEGO Harry Potter: Years 5-7 | 8 | N/A, N/A, N/A, N/A, N/A, N/A, 2012, N/A | Warner Bros. Interactive Entertainment\n",
      "LEGO Jurassic World | 8 | 2015, 2015, 2015, 2015, 2015, 2015, 2015, 2015 | Warner Bros. Interactive Entertainment\n",
      "The LEGO Movie Videogame | 8 | 2014, 2014, 2014, 2014, 2014, 2014, 2014, 2014 | Warner Bros. Interactive Entertainment\n",
      "Lego Batman 3: Beyond Gotham | 8 | 2014, 2014, 2014, 2014, 2014, 2014, 2014, 2014 | Warner Bros. Interactive Entertainment\n",
      "LEGO The Hobbit | 8 | 2014, 2014, 2014, 2014, 2014, 2014, 2014, 2014 | Warner Bros. Interactive Entertainment\n",
      "FIFA 15 | 8 | 2014, 2014, 2014, 2014, 2014, 2014, 2014, 2014 | Electronic Arts\n",
      "Angry Birds Star Wars | 8 | 2013, 2013, 2013, 2013, 2013, 2013, 2013, 2013 | Activision\n",
      "Terraria | 8 | 2013, 2013, 2011, 2013, 2016, 2014, 2014, 2016 | 505 Games, Unknown, Screenlife\n",
      "FIFA Soccer 13 | 8 | 2012, 2012, 2012, 2012, 2012, 2012, 2012, 2012 | Electronic Arts\n",
      "Madden NFL 08 | 8 | 2007, 2007, 2007, 2007, 2007, 2007, 2007, 2007 | Electronic Arts\n",
      "Cars | 8 | 2006, 2006, 2006, 2006, 2006, 2006, 2006, 2006 | THQ\n",
      "LEGO Star Wars II: The Original Trilogy | 8 | 2006, 2006, 2006, 2006, 2006, 2006, 2006, 2006 | LucasArts, Activision\n",
      "Monopoly | 8 | 1994, 2008, 1997, 2008, 2008, 2008, 2010, 1999 | Hasbro Interactive, Electronic Arts\n",
      "LEGO Marvel's Avengers | 7 | 2016, 2016, 2016, 2016, 2016, 2016, 2016 | Warner Bros. Interactive Entertainment\n",
      "Lego Star Wars: The Force Awakens | 7 | 2016, 2016, 2016, 2016, 2016, 2016, 2016 | Warner Bros. Interactive Entertainment\n",
      "\n",
      "Število iger: 11493\n"
     ]
    }
   ],
   "source": [
    "name_games_unique = {}\n",
    "\n",
    "print(\"Naziv igre | Število izdaj | Leta izdaje | Založnik \\n - | - | - | -\")\n",
    "for key, value in videogames_data.items():\n",
    "    if value[\"Name\"] not in name_games_unique:\n",
    "        name_games_unique[value[\"Name\"]] = [1, [value[\"Year\"]], [value[\"Publisher\"]]]\n",
    "    else:\n",
    "        name_games_unique[value[\"Name\"]][0] += 1\n",
    "        name_games_unique[value[\"Name\"]][1] += [value[\"Year\"]]\n",
    "        if value[\"Publisher\"] not in name_games_unique[value[\"Name\"]][2]:\n",
    "            name_games_unique[value[\"Name\"]][2] += [value[\"Publisher\"]]\n",
    "\n",
    "number_of_prints = 0\n",
    "sorted_name_games_unique = sorted(name_games_unique.items(), key=itemgetter(1), reverse=True)\n",
    "\n",
    "for key, value in sorted_name_games_unique:\n",
    "    if number_of_prints < 20:\n",
    "        print(f'{key} | {value[0]} | {\", \".join(value[1])} | {\", \".join(value[2])}')\n",
    "        number_of_prints += 1\n",
    "    else:\n",
    "        break\n",
    "\n",
    "\n",
    "print()\n",
    "print(\"Število iger:\", len(name_games_unique))"
   ]
  },
  {
   "cell_type": "markdown",
   "metadata": {},
   "source": [
    "### Skupno število prodanih iger"
   ]
  },
  {
   "cell_type": "code",
   "execution_count": 8,
   "metadata": {},
   "outputs": [
    {
     "name": "stdout",
     "output_type": "stream",
     "text": [
      "\n",
      "Skupno število prodanih iger: 8920.440000001283\n"
     ]
    }
   ],
   "source": [
    "global_sales = 0\n",
    "\n",
    "for key, value in videogames_data.items():\n",
    "    global_sales += float(value[\"Global_Sales\"])\n",
    "        \n",
    "print()\n",
    "print(\"Skupno število prodanih iger:\", global_sales)"
   ]
  }
 ],
 "metadata": {
  "kernelspec": {
   "display_name": "Python 3",
   "language": "python",
   "name": "python3"
  },
  "language_info": {
   "codemirror_mode": {
    "name": "ipython",
    "version": 3
   },
   "file_extension": ".py",
   "mimetype": "text/x-python",
   "name": "python",
   "nbconvert_exporter": "python",
   "pygments_lexer": "ipython3",
   "version": "3.7.2"
  }
 },
 "nbformat": 4,
 "nbformat_minor": 2
}
