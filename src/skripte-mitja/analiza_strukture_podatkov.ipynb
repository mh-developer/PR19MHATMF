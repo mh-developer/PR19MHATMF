{
 "cells": [
  {
   "cell_type": "code",
   "execution_count": 1,
   "metadata": {},
   "outputs": [],
   "source": [
    "from csv import DictReader\n",
    "from datetime import datetime\n",
    "import numpy as np\n",
    "from operator import itemgetter, attrgetter\n",
    "import itertools\n",
    "\n",
    "%matplotlib inline\n",
    "%config InlineBackend.figure_formats = ['jpg']\n",
    "import matplotlib\n",
    "matplotlib.figure.Figure.__repr__ = lambda self: (\n",
    "    f\"<{self.__class__.__name__} size {self.bbox.size[0]:g}\"\n",
    "    f\"x{self.bbox.size[1]:g} with {len(self.axes)} Axes>\")\n",
    "\n",
    "import matplotlib.image as mpimg\n",
    "import matplotlib.pyplot as plt\n",
    "plt.style.use('PR.mplstyle')"
   ]
  },
  {
   "cell_type": "code",
   "execution_count": 2,
   "metadata": {},
   "outputs": [
    {
     "name": "stdout",
     "output_type": "stream",
     "text": [
      "Rank: 1\n",
      "Name: Wii Sports\n",
      "Platform: Wii\n",
      "Year_of_Release: 2006\n",
      "Genre: Sports\n",
      "Publisher: Nintendo\n",
      "NA_players: 41.36\n",
      "EU_players: 28.96\n",
      "JP_players: 3.77\n",
      "Other_players: 8.45\n",
      "Global_players: 82.53\n",
      "Critic_Score: 76\n",
      "Critic_Count: 51\n",
      "User_Score: 8\n",
      "User_Count: 322\n",
      "Developer: Nintendo\n",
      "Rating: E\n"
     ]
    }
   ],
   "source": [
    "videogames_data = {}\n",
    "\n",
    "\n",
    "with open('../../podatki/video_game.csv', 'rt', encoding='utf-8') as data:\n",
    "    for row in DictReader(data):\n",
    "        videogames_data[row['Rank']] = row\n",
    "                        \n",
    "\n",
    "# Primer branja iz slovarja podatkov\n",
    "for key, value in videogames_data.items():\n",
    "    for atribut, vrednost in value.items():\n",
    "        print(atribut + \": \" + vrednost)\n",
    "    break"
   ]
  },
  {
   "cell_type": "markdown",
   "metadata": {},
   "source": [
    "### Izpis prvih nekaj vrstic podatkov"
   ]
  },
  {
   "cell_type": "code",
   "execution_count": 3,
   "metadata": {},
   "outputs": [
    {
     "name": "stdout",
     "output_type": "stream",
     "text": [
      "Rank | Name | Platform | Year_of_Release | Genre | Publisher | NA_players | EU_players | JP_players | Other_players | Global_players | Critic_Score | Critic_Count | User_Score | User_Count | Developer | Rating\n",
      "---- | ---- | ---- | ---- | ---- | ---- | ---- | ---- | ---- | ---- | ---- | ---- | ---- | ---- | ---- | ---- | ----\n",
      "1 | Wii Sports | Wii | 2006 | Sports | Nintendo | 41.36 | 28.96 | 3.77 | 8.45 | 82.53 | 76 | 51 | 8 | 322 | Nintendo | E\n",
      "2 | Super Mario Bros. | NES | 1985 | Platform | Nintendo | 29.08 | 3.58 | 6.81 | 0.77 | 40.24 | NA | NA |  | NA |  | \n",
      "3 | Mario Kart Wii | Wii | 2008 | Racing | Nintendo | 15.68 | 12.76 | 3.79 | 3.29 | 35.52 | 82 | 73 | 8.3 | 709 | Nintendo | E\n",
      "4 | Wii Sports Resort | Wii | 2009 | Sports | Nintendo | 15.61 | 10.93 | 3.28 | 2.95 | 32.77 | 80 | 73 | 8 | 192 | Nintendo | E\n",
      "5 | Pokemon Red/Pokemon Blue | GB | 1996 | Role-Playing | Nintendo | 11.27 | 8.89 | 10.22 | 1 | 31.37 | NA | NA |  | NA |  | \n"
     ]
    }
   ],
   "source": [
    "st_izpisov_vrstic = 0\n",
    "\n",
    "for key, value in videogames_data.items():\n",
    "    if st_izpisov_vrstic < 5:\n",
    "        header = []\n",
    "        row_delimiter = []\n",
    "        row = []\n",
    "        for atribut, vrednost in value.items():\n",
    "            if st_izpisov_vrstic == 0:\n",
    "                header.append(atribut)\n",
    "                row_delimiter.append(\"----\")\n",
    "            row.append(vrednost)\n",
    "        \n",
    "        if st_izpisov_vrstic == 0:\n",
    "            print(\" | \".join(header))\n",
    "            print(\" | \".join(row_delimiter))\n",
    "        print(\" | \".join(row))\n",
    "        st_izpisov_vrstic += 1\n",
    "    "
   ]
  },
  {
   "cell_type": "markdown",
   "metadata": {},
   "source": [
    "### Najbolj popularne igre glede na trg (USA, EU, JPY, ostali)"
   ]
  },
  {
   "cell_type": "code",
   "execution_count": 5,
   "metadata": {},
   "outputs": [
    {
     "name": "stdout",
     "output_type": "stream",
     "text": [
      "OrderedDict([('Rank', '1'), ('Name', 'Wii Sports'), ('Platform', 'Wii'), ('Year_of_Release', '2006'), ('Genre', 'Sports'), ('Publisher', 'Nintendo'), ('NA_players', '41.36'), ('EU_players', '28.96'), ('JP_players', '3.77'), ('Other_players', '8.45'), ('Global_players', '82.53'), ('Critic_Score', '76'), ('Critic_Count', '51'), ('User_Score', '8'), ('User_Count', '322'), ('Developer', 'Nintendo'), ('Rating', 'E')])\n",
      "OrderedDict([('Rank', '1'), ('Name', 'Wii Sports'), ('Platform', 'Wii'), ('Year_of_Release', '2006'), ('Genre', 'Sports'), ('Publisher', 'Nintendo'), ('NA_players', '41.36'), ('EU_players', '28.96'), ('JP_players', '3.77'), ('Other_players', '8.45'), ('Global_players', '82.53'), ('Critic_Score', '76'), ('Critic_Count', '51'), ('User_Score', '8'), ('User_Count', '322'), ('Developer', 'Nintendo'), ('Rating', 'E')])\n",
      "OrderedDict([('Rank', '5'), ('Name', 'Pokemon Red/Pokemon Blue'), ('Platform', 'GB'), ('Year_of_Release', '1996'), ('Genre', 'Role-Playing'), ('Publisher', 'Nintendo'), ('NA_players', '11.27'), ('EU_players', '8.89'), ('JP_players', '10.22'), ('Other_players', '1'), ('Global_players', '31.37'), ('Critic_Score', 'NA'), ('Critic_Count', 'NA'), ('User_Score', ''), ('User_Count', 'NA'), ('Developer', ''), ('Rating', '')])\n",
      "OrderedDict([('Rank', '18'), ('Name', 'Grand Theft Auto: San Andreas'), ('Platform', 'PS2'), ('Year_of_Release', '2004'), ('Genre', 'Action'), ('Publisher', 'Take-Two Interactive'), ('NA_players', '9.43'), ('EU_players', '0.4'), ('JP_players', '0.41'), ('Other_players', '10.57'), ('Global_players', '20.81'), ('Critic_Score', '95'), ('Critic_Count', '80'), ('User_Score', '9'), ('User_Count', '1588'), ('Developer', 'Rockstar North'), ('Rating', 'M')])\n",
      "OrderedDict([('Rank', '1'), ('Name', 'Wii Sports'), ('Platform', 'Wii'), ('Year_of_Release', '2006'), ('Genre', 'Sports'), ('Publisher', 'Nintendo'), ('NA_players', '41.36'), ('EU_players', '28.96'), ('JP_players', '3.77'), ('Other_players', '8.45'), ('Global_players', '82.53'), ('Critic_Score', '76'), ('Critic_Count', '51'), ('User_Score', '8'), ('User_Count', '322'), ('Developer', 'Nintendo'), ('Rating', 'E')])\n"
     ]
    }
   ],
   "source": [
    "max_value = 0\n",
    "for key, value in videogames_data.items():\n",
    "    if max_value < float(value[\"NA_players\"]):\n",
    "        max_value = float(value[\"NA_players\"])\n",
    "        najjaci = value\n",
    "        \n",
    "print(najjaci)\n",
    "\n",
    "max_value = 0\n",
    "for key, value in videogames_data.items():\n",
    "    if max_value < float(value[\"EU_players\"]):\n",
    "        max_value = float(value[\"EU_players\"])\n",
    "        najjaci = value\n",
    "        \n",
    "print(najjaci)\n",
    "\n",
    "max_value = 0\n",
    "for key, value in videogames_data.items():\n",
    "    if max_value < float(value[\"JP_players\"]):\n",
    "        max_value = float(value[\"JP_players\"])\n",
    "        najjaci = value\n",
    "        \n",
    "print(najjaci)\n",
    "\n",
    "max_value = 0\n",
    "for key, value in videogames_data.items():\n",
    "    if max_value < float(value[\"Other_players\"]):\n",
    "        max_value = float(value[\"Other_players\"])\n",
    "        najjaci = value\n",
    "        \n",
    "print(najjaci)\n",
    "\n",
    "max_value = 0\n",
    "for key, value in videogames_data.items():\n",
    "    if max_value < float(value[\"Global_players\"]):\n",
    "        max_value = float(value[\"Global_players\"])\n",
    "        najjaci = value\n",
    "        \n",
    "print(najjaci)"
   ]
  },
  {
   "cell_type": "markdown",
   "metadata": {},
   "source": [
    "### Katere platforme imamo v podatkih"
   ]
  },
  {
   "cell_type": "code",
   "execution_count": 6,
   "metadata": {},
   "outputs": [
    {
     "name": "stdout",
     "output_type": "stream",
     "text": [
      "Platforme:\n",
      "Wii, NES, GB, DS, X360, PS3, PS2, SNES, GBA, PS4, 3DS, N64, PS, XB, PC, 2600, PSP, XOne, WiiU, GC, GEN, DC, PSV, SAT, SCD, WS, NG, TG16, 3DO, GG, PCFX, \n",
      "Število platform: 31\n"
     ]
    }
   ],
   "source": [
    "platforms_unique = []\n",
    "\n",
    "print(\"Platforme:\")\n",
    "for key, value in videogames_data.items():\n",
    "    if value[\"Platform\"] not in platforms_unique:\n",
    "        platforms_unique.append(value[\"Platform\"])\n",
    "        print(value[\"Platform\"], end=\", \")\n",
    "        \n",
    "print()\n",
    "print(\"Število platform:\", len(platforms_unique))"
   ]
  },
  {
   "cell_type": "markdown",
   "metadata": {},
   "source": [
    "### Katere žanre imamo v podatkih"
   ]
  },
  {
   "cell_type": "code",
   "execution_count": 7,
   "metadata": {},
   "outputs": [
    {
     "name": "stdout",
     "output_type": "stream",
     "text": [
      "Žanri:\n",
      "Sports, Platform, Racing, Role-Playing, Puzzle, Misc, Shooter, Simulation, Action, Fighting, Adventure, Strategy, , \n",
      "Število žanrov: 13\n"
     ]
    }
   ],
   "source": [
    "genre_unique = []\n",
    "\n",
    "print(\"Žanri:\")\n",
    "for key, value in videogames_data.items():\n",
    "    if value[\"Genre\"] not in genre_unique:\n",
    "        genre_unique.append(value[\"Genre\"])\n",
    "        print(value[\"Genre\"], end=\", \")\n",
    "        \n",
    "print()\n",
    "print(\"Število žanrov:\", len(genre_unique))"
   ]
  },
  {
   "cell_type": "markdown",
   "metadata": {},
   "source": [
    "### Katere založnike imamo v podatkih"
   ]
  },
  {
   "cell_type": "code",
   "execution_count": 8,
   "metadata": {},
   "outputs": [
    {
     "name": "stdout",
     "output_type": "stream",
     "text": [
      "Založniki:\n",
      "Nintendo, Microsoft Game Studios, Take-Two Interactive, Sony Computer Entertainment, Activision, Ubisoft, Bethesda Softworks, Electronic Arts, Sega, SquareSoft, Atari, 505 Games, Capcom, GT Interactive, Konami Digital Entertainment, Square Enix, Sony Computer Entertainment Europe, Virgin Interactive, LucasArts, Warner Bros. Interactive Entertainment, Universal Interactive, Eidos Interactive, RedOctane, Vivendi Games, Enix Corporation, Namco Bandai Games, Palcom, Hasbro Interactive, THQ, Fox Interactive, Acclaim Entertainment, MTV Games, Disney Interactive Studios, N/A, Codemasters, Majesco Entertainment, Red Orb, Level 5, Arena Entertainment, Midway Games, JVC, Deep Silver, NCSoft, 989 Studios, UEP Systems, Parker Bros., Maxis, Imagic, Tecmo Koei, ASCII Entertainment, Valve Software, Mindscape, Infogrames, Unknown, Square, Valve, Banpresto, Hello Games, D3Publisher, Activision Value, Oxygen Interactive, Red Storm Entertainment, Video System, Global Star, Gotham Games, Westwood Studios, GungHo, Crave Entertainment, Hudson Soft, Coleco, Rising Star Games, TDK Mediactive, ASC Games, Accolade, Zoo Games, Sony Online Entertainment, 3DO, Natsume, RTL, Alchemist, Black Label Games, SouthPeak Games, Focus Home Interactive, Ocean, Zoo Digital Publishing, Psygnosis, City Interactive, Empire Interactive, Success, Compile, Russel, Atlus, Mastertronic, Slightly Mad Studios, Taito, Agetec, Microprose, Play It, GSP, Tomy Corporation, Sammy Corporation, Koch Media, Game Factory, Titus, Marvelous Entertainment, Genki, Mojang, CTO SpA, TalonSoft, Crystal Dynamics, Square Enix , mixi, Inc, Pinnacle, SCi, Quelle, Rage Software, Ubisoft Annecy, Interplay, Scholastic Inc., Mystique, ChunSoft, Square EA, 20th Century Fox Video Games, Hudson Entertainment, Men-A-Vision, Nobilis, Avanquest Software, Big Ben Interactive, Nordic Games, Touchstone, Spike, Nippon Ichi Software, Sony Computer Entertainment America, Jester Interactive, LEGO Media, Quest, Illusion Softworks, Tigervision, Rocket Company, Metro 3D, Mattel Interactive, IE Institute, Funbox Media, Rondomedia, Universal Gamex, Ghostlight, Wizard Video Games, BMG Interactive Entertainment, PQube, Trion Worlds, Xseed Games, Laguna, Takara, Ignition Entertainment, Kadokawa Shoten, Enterbrain, Imagineer, CPG Products, System 3 Arcade Software, Aruze Corp, Destineer, Gamebridge, Midas Interactive Entertainment, Jaleco, Answer Software, Pack In Soft, XS Games, Rebellion, Ultravision, Harmonix Music Systems, Activision Blizzard, Xplosiv, Wanadoo, Telltale Games, NovaLogic, Epoch, BAM! Entertainment, GameMill Entertainment, Knowledge Adventure, Tetris Online, Mastiff, ESP, TYO, Telegames, Mud Duck Productions, Screenlife, Pioneer LDC, Magical Company, Kemco, Mentor Interactive, Human Entertainment, Data Age, Electronic Arts Victor, Jack of All Games, Avanquest, Black Bean Games, 989 Sports, Takara Tomy, Media Rings, Elf, Starfish, Zushi Games, Jorudan, Destination Software, Inc, New, Brash Entertainment, Kalypso Media, ITT Family Games, Ackkstudios, PopCap Games, Starpath Corp., BPS, Gathering of Developers, NewKidCo, Marvelous Interactive, Storm City Games, CokeM Interactive, P2 Games, CBS Electronics, Home Entertainment Suppliers, Magix, Arc System Works, Angel Studios, Wargaming.net, Playmates, SNK Playmore, Hamster Corporation, From Software, Nippon Columbia, Nichibutsu, Conspiracy Entertainment, Hect, Mumbo Jumbo, DTP Entertainment, Pacific Century Cyber Works, Indie Games, Liquid Games, NEC, Axela, ArtDink, Sunsoft, Little Orbit, FuRyu, Gust, SNK, NEC Interchannel, Nihon Falcom Corporation, Xing Entertainment, ValuSoft, Victor Interactive, American Softworks, Falcom Corporation, Detn8 Games, Bomb, Nordcurrent, Milestone S.r.l., AQ Interactive, Sears, Seta Corporation, On Demand, CCP, NCS, Rebellion Developments, Agatsuma Entertainment, Gremlin Interactive Ltd, Aspyr, Compile Heart, Culture Brain, Mad Catz, Shogakukan, Merscom LLC, JoWood Productions, Nippon Telenet, TDK Core, Kadokawa Games, SSI, Foreign Media Games, Core Design Ltd., bitComposer Games, Astragon, Asylum Entertainment, Performance Designed Products, UFO Interactive, Essential Games, Adeline Software, Funcom, PlayV, Panther Software, Blast! Entertainment Ltd, Playlogic Game Factory, DSI Games, Avalon Interactive, Game Life, Popcorn Arcade, Aques, System 3, Syscom, Vir2L Studios, Vatical Entertainment, Neko Entertainment, White Park Bay Software, Vic Tokai, Media Factory, Daedalic, Game Arts, The Adventure Company, EA Games, Acquire, Broccoli, General Entertainment, Paradox Interactive, Yacht Club Games, Imadio, Swing! Entertainment, Sony Music Entertainment, Aqua Plus, Excalibur Publishing, Hip Interactive, Tripwire Interactive, DreamCatcher Interactive, SCS Software, Havas Interactive, Sting, Idea Factory, Telstar, U.S. Gold, Funsta, DreamWorks Interactive, Slitherine Software, MTO, Graffiti, Tru Blu Entertainment, DHM Interactive, Crytek, FunSoft, Data Design Interactive, SPS, Moss, T&E Soft, NDA Productions, Bigben Interactive, Data East, Idea Factory International, Time Warner Interactive, Gainax Network Systems, Daito, O3 Entertainment, O-Games, Gameloft, Xicat Interactive, Simon & Schuster Interactive, Valcon Games, PopTop Software, TOHO, PM Studios, Bohemia Interactive, Reef Entertainment, 5pb, HMH Interactive, inXile Entertainment, Cave, Microids, Paon, CDV Software Entertainment, Micro Cabin, GameTek, Benesse, Type-Moon, Enjoy Gaming ltd., Asmik Corp, Interplay Productions, Asmik Ace Entertainment, Image Epoch, Phantom EFX, Evolved Games, responDESIGN, Griffin International, Culture Publishers, Hackberry, Hearty Robin, Nippon Amuse, Origin Systems, Seventh Chord, Abylight, Mitsui, Insomniac Games, Flight-Plan, Milestone, Glams, Aksys Games, Locus, Warp, Irem Software Engineering, Myelin Media, Global A Entertainment, Alternative Software, Mercury Games, Sunrise Interactive, Elite, Evolution Games, Daedalic Entertainment, Edia, Athena, Aria, Tivola, Happinet, Tommo, Altron, Revolution Software, Media Works, Fortyfive, Gamecock, Imax, 10TACLE Studios, Groove Games, Pack-In-Video, Crimson Cow, iWin, Asgard, Ecole, Yumedia, Ascaron Entertainment GmbH, HAL Laboratory, Phenomedia, Grand Prix Games, DigiCube, Creative Core, Kaga Create, WayForward Technologies, LSP Games, ASCII Media Works, 1C Company, Coconuts Japan, Arika, Marvel Entertainment, Ertain, Prototype, Phantagram, The Learning Company, TechnoSoft, MLB.com, Vap, Misawa, Yeti, Dusenberry Martin Racing, Navarre Corp, Pow, MediaQuest, Team17 Software, Max Five, Tradewest, Comfort, Milestone S.r.l, Pony Canyon, Riverhillsoft, Summitsoft, Playmore, Kool Kizz, Monte Christo Multimedia, TopWare Interactive, Legacy Interactive, Cloud Imperium Games Corporation, Flashpoint Games, CyberFront, Alawar Entertainment, Societa, Interchannel, Experience Inc., Sonnet, Virtual Play Games, Zenrin, Iceberg Interactive, Ivolgamus, MC2 Entertainment, 2D Boy, Games Workshop, Kando Games, Office Create, Maximum Family Games, Fields, Gearbox Software, Princess Soft, Extreme Entertainment Group, Big Fish Games, Berkeley, Mamba Games, Fuji, FuRyu Corporation, Her Interactive, imageepoch Inc., Just Flight, Kamui, ASK, Cygames, Introversion Software, 49Games, KSS, dramatic create, TGL, KID, Quinrose, Sold Out, Encore, G.Rev, Sunflowers, Headup Games, Sweets, Kokopeli Digital Studios, id Software, Nexon, BushiRoad, Devolver Digital, Number None, Tryfirst, GN Software, Yuke's, Strategy First, Lexicon Entertainment, Paon Corporation, Kids Station, Licensed 4U, GOA, 7G//AMES, King Records, Minato Station, Graphsim Entertainment, Easy Interactive, Gaga, Yamasa Entertainment, Plenty, Views, Blue Byte, fonfun, NetRevo, Epic Games, Quintet, Focus Multimedia, Phoenix Games, Marvelous Games, Dorart, Codemasters Online, Stainless Games, Aerosoft, Imageworks, Karin Entertainment, Technos Japan Corporation, Masque Publishing, Gakken, New World Computing, Mirai Shounen, Datam Polystar, HuneX, Visco, Saurus, Revolution (Japan), Giza10, Alvion, Giga, Mycom, Warashi, System Soft, RED Entertainment, Lighthouse Interactive, Michaelsoft, Media Entertainment, Genterprise, Interworks Unlimited, Inc., Inti Creates, Boost On, EON Digital Entertainment, Nitroplus, Naxat Soft, Piacci, Paradox Development, Otomate, Ascaron Entertainment, Ongakukan, Commseed, UIG Entertainment, Takuyo, Interchannel-Holon, Red Flagship, \n",
      "Število založnikov: 582\n"
     ]
    }
   ],
   "source": [
    "publisher_unique = []\n",
    "\n",
    "print(\"Založniki:\")\n",
    "for key, value in videogames_data.items():\n",
    "    if value[\"Publisher\"] not in publisher_unique:\n",
    "        publisher_unique.append(value[\"Publisher\"])\n",
    "        print(value[\"Publisher\"], end=\", \")\n",
    "        \n",
    "print()\n",
    "print(\"Število založnikov:\", len(publisher_unique))"
   ]
  },
  {
   "cell_type": "markdown",
   "metadata": {},
   "source": [
    "### Koliko izdaj imajo posamezne igre"
   ]
  },
  {
   "cell_type": "code",
   "execution_count": 14,
   "metadata": {},
   "outputs": [
    {
     "name": "stdout",
     "output_type": "stream",
     "text": [
      "Naziv igre | Število izdaj | Leta izdaje | Razvijalec | Založnik \n",
      " - | - | - | - | -\n",
      "Need for Speed: Most Wanted | 12 | 2005 (PS2), 2012 (PS3), 2012 (X360), 2005 (X360), 2005 (XB), 2012 (PSV), 2005 (GC), 2005 (PC), 2013 (WiiU), 2005 (DS), 2005 (GBA), 2012 (PC) | EA Canada, , Black Box | Electronic Arts\n",
      "LEGO Marvel Super Heroes | 9 | 2013 (X360), 2013 (PS3), 2013 (PS4), 2013 (XOne), 2013 (3DS), 2013 (WiiU), 2013 (PSV), 2013 (DS), 2013 (PC) | TT Games,  | Warner Bros. Interactive Entertainment\n",
      "FIFA 14 | 9 | 2013 (PS3), 2013 (X360), 2013 (PS4), 2013 (XOne), 2013 (PSV), 2013 (PC), 2013 (Wii), 2013 (3DS), 2013 (PSP) | EA Canada,  | Electronic Arts\n",
      "Ratatouille | 9 | 2007 (DS), 2007 (PS2), 2007 (PSP), 2007 (PS3), 2007 (Wii), 2007 (X360), 2007 (GBA), 2007 (GC), 2007 (PC) | , Asobo Studio, Locomotive Games, Heavy Iron Studios, Helixe | THQ\n",
      "Madden NFL 07 | 9 | 2006 (PS2), 2006 (X360), 2006 (XB), N/A (PSP), 2006 (GC), 2006 (PS3), 2006 (Wii), 2006 (DS), 2006 (GBA) | EA Sports, EA Tiburon, EA Canada, Exient Entertainment | Electronic Arts, Unknown\n",
      "LEGO Harry Potter: Years 5-7 | 8 | N/A (Wii), N/A (X360), N/A (PS3), N/A (DS), N/A (3DS), N/A (PSP), N/A (PC), 2012 (PSV) | Traveller's Tales | Warner Bros. Interactive Entertainment\n",
      "LEGO Jurassic World | 8 | 2015 (PS4), 2015 (X360), 2015 (PS3), 2015 (XOne), 2015 (3DS), 2015 (WiiU), 2015 (PSV), 2015 (PC) | TT Games | Warner Bros. Interactive Entertainment\n",
      "The LEGO Movie Videogame | 8 | 2014 (X360), 2014 (PS3), 2014 (3DS), 2014 (PS4), 2014 (WiiU), 2014 (XOne), 2014 (PSV), 2014 (PC) | TT Games | Warner Bros. Interactive Entertainment\n",
      "Lego Batman 3: Beyond Gotham | 8 | 2014 (PS4), 2014 (X360), 2014 (PS3), 2014 (3DS), 2014 (WiiU), 2014 (XOne), 2014 (PSV), 2014 (PC) | TT Games | Warner Bros. Interactive Entertainment\n",
      "FIFA 15 | 8 | 2014 (PS4), 2014 (PS3), 2014 (X360), 2014 (XOne), 2014 (PSV), 2014 (Wii), 2014 (3DS), 2014 (PC) | EA Sports | Electronic Arts\n",
      "LEGO The Hobbit | 8 | 2014 (PS4), 2014 (PS3), 2014 (X360), 2014 (XOne), 2014 (3DS), 2014 (WiiU), 2014 (PSV), 2014 (PC) | TT Games,  | Warner Bros. Interactive Entertainment\n",
      "Terraria | 8 | 2013 (X360), 2013 (PS3), 2011 (PC), 2013 (PSV), 2016 (3DS), 2014 (PS4), 2014 (XOne), 2016 (WiiU) | Engine Software, Re-Logic, Engine Software, Re-Logic | 505 Games, Unknown, Screenlife\n",
      "Angry Birds Star Wars | 8 | 2013 (3DS), 2013 (PS3), 2013 (X360), 2013 (Wii), 2013 (PS4), 2013 (XOne), 2013 (WiiU), 2013 (PSV) | Exient Entertainment | Activision\n",
      "FIFA Soccer 13 | 8 | 2012 (PS3), 2012 (X360), 2012 (Wii), 2012 (WiiU), 2012 (PSV), 2012 (PC), 2012 (PSP), 2012 (3DS) | Electronic Arts | Electronic Arts\n",
      "Madden NFL 08 | 8 | 2007 (PS2), 2007 (X360), 2007 (PS3), 2007 (Wii), 2007 (PSP), 2007 (XB), 2007 (DS), 2007 (GC) | EA Tiburon, Exient Entertainment | Electronic Arts\n",
      "Cars | 8 | 2006 (PS2), 2006 (PSP), 2006 (GBA), 2006 (DS), 2006 (GC), 2006 (Wii), 2006 (X360), 2006 (XB) | Rainbow Studios, Locomotive Games, Helixe | THQ\n",
      "LEGO Star Wars II: The Original Trilogy | 8 | 2006 (PS2), 2006 (PSP), 2006 (DS), 2006 (GC), 2006 (X360), 2006 (XB), 2006 (GBA), 2006 (PC) | Traveller's Tales, Amaze Entertainment | LucasArts, Activision\n",
      "Monopoly | 8 | 1994 (PC), 2008 (Wii), 1997 (PS), 2008 (X360), 2008 (PS2), 2008 (PS3), 2010 (DS), 1999 (N64) | , Electronic Arts, EA Bright Light | Hasbro Interactive, Electronic Arts\n",
      "LEGO Marvel's Avengers | 7 | 2016 (PS4), 2016 (XOne), 2016 (X360), 2016 (PS3), 2016 (WiiU), 2016 (3DS), 2016 (PSV) | TT Games | Warner Bros. Interactive Entertainment\n",
      "Lego Star Wars: The Force Awakens | 7 | 2016 (PS4), 2016 (XOne), 2016 (PS3), 2016 (WiiU), 2016 (3DS), 2016 (X360), 2016 (PSV) | TT Games | Warner Bros. Interactive Entertainment\n",
      "\n",
      "Število iger: 11563\n"
     ]
    }
   ],
   "source": [
    "name_games_unique = {}\n",
    "\n",
    "print(\"Naziv igre | Število izdaj | Leta izdaje | Razvijalec | Založnik \\n - | - | - | - | -\")\n",
    "for key, value in videogames_data.items():\n",
    "    if value[\"Name\"] not in name_games_unique:\n",
    "        name_games_unique[value[\"Name\"]] = [1, [value[\"Year_of_Release\"] + \" (\"+ value[\"Platform\"] +\")\"],  [value[\"Developer\"]], [value[\"Publisher\"]]]\n",
    "    else:\n",
    "        name_games_unique[value[\"Name\"]][0] += 1\n",
    "        name_games_unique[value[\"Name\"]][1] += [value[\"Year_of_Release\"] + \" (\"+ value[\"Platform\"] +\")\"]\n",
    "        if value[\"Developer\"] not in name_games_unique[value[\"Name\"]][2]:\n",
    "            name_games_unique[value[\"Name\"]][2] +=  [value[\"Developer\"]]\n",
    "        if value[\"Publisher\"] not in name_games_unique[value[\"Name\"]][3]:\n",
    "            name_games_unique[value[\"Name\"]][3] += [value[\"Publisher\"]]\n",
    "\n",
    "number_of_prints = 0\n",
    "sorted_name_games_unique = sorted(name_games_unique.items(), key=itemgetter(1), reverse=True)\n",
    "\n",
    "for key, value in sorted_name_games_unique:\n",
    "    if number_of_prints < 20:\n",
    "        print(f'{key} | {value[0]} | {\", \".join(value[1])} | {\", \".join(value[2])} | {\", \".join(value[3])}')\n",
    "        number_of_prints += 1\n",
    "    else:\n",
    "        break\n",
    "\n",
    "\n",
    "print()\n",
    "print(\"Število iger:\", len(name_games_unique))"
   ]
  },
  {
   "cell_type": "markdown",
   "metadata": {},
   "source": [
    "### Skupno število prodanih iger"
   ]
  },
  {
   "cell_type": "code",
   "execution_count": 17,
   "metadata": {},
   "outputs": [
    {
     "name": "stdout",
     "output_type": "stream",
     "text": [
      "\n",
      "Skupno število prodanih iger: 8920.300000001298\n"
     ]
    }
   ],
   "source": [
    "global_sales = 0\n",
    "\n",
    "for key, value in videogames_data.items():\n",
    "    global_sales += float(value[\"Global_players\"])\n",
    "        \n",
    "print()\n",
    "print(\"Skupno število prodanih iger:\", global_sales)"
   ]
  }
 ],
 "metadata": {
  "kernelspec": {
   "display_name": "Python 3",
   "language": "python",
   "name": "python3"
  },
  "language_info": {
   "codemirror_mode": {
    "name": "ipython",
    "version": 3
   },
   "file_extension": ".py",
   "mimetype": "text/x-python",
   "name": "python",
   "nbconvert_exporter": "python",
   "pygments_lexer": "ipython3",
   "version": "3.7.2"
  },
  "nbTranslate": {
   "displayLangs": [
    "*"
   ],
   "hotkey": "alt-t",
   "langInMainMenu": true,
   "sourceLang": "en",
   "targetLang": "fr",
   "useGoogleTranslate": true
  }
 },
 "nbformat": 4,
 "nbformat_minor": 2
}
