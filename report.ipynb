{
 "cells": [
  {
   "cell_type": "markdown",
   "metadata": {},
   "source": [
    "# Analiza video iger in platform"
   ]
  },
  {
   "cell_type": "markdown",
   "metadata": {},
   "source": [
    "### Ekipa\n",
    "* Mitja Hrovatič\n",
    "* Anže Tomažin\n",
    "* Matej Fortuna"
   ]
  },
  {
   "cell_type": "markdown",
   "metadata": {},
   "source": [
    "## Uvod"
   ]
  },
  {
   "cell_type": "markdown",
   "metadata": {},
   "source": [
    "Ukvarjali smo se z analizo video iger in platform. Želeli smo izvedeti katere platforme so najbolj priljubljene, kateri razvijalci iger so najbolj kvalitetni, katere igre so najboljše po mnenju uporabnikov ter kritikov, kateri žanri iger prevladujejo in še druge stvari, ki so s tem povezane. Naš cilj je bil, da naredimo priporočilni sistem za priporočanje iger po izbranih kategorijah, prikažemo prodajo iger na zemljevidu sveta ter ugotovimo katere platforme in žanri najbolj privlačijo igralce."
   ]
  },
  {
   "cell_type": "markdown",
   "metadata": {},
   "source": [
    "## Podatki"
   ]
  },
  {
   "cell_type": "markdown",
   "metadata": {},
   "source": [
    "Vir podatkov: \n",
    "* https://www.kaggle.com/juttugarakesh/video-game-data\n",
    "<br><br>\n",
    "\n",
    "Podatke smo pridobili iz strani Kaggle v formatu \"csv\".\n",
    "Zbirka podatkov *Video game sales* vsebuje podatke o video igrah od leta 1980 do 2016.\n",
    "<br><br>\n",
    "\n",
    "*Video game sales* vključujejo atribute:\n",
    "\n",
    "* Rank - Uvrstitev celotne prodaje\n",
    "* Name - Ime igre\n",
    "* Platform - Igra izdana za platformo (npr. PC, PS4 itd.)\n",
    "* Year - Leto izdaje igre\n",
    "* Genre - Žanr igre\n",
    "* Publisher - založnik igre\n",
    "* NA_Prodaja - Prodaja v Severni Ameriki (v milijonih)\n",
    "* EU_Prodaja - Prodaja v Evropi (v milijonih)\n",
    "* JP_Prodaja - Prodaja na Japonskem (v milijonih)\n",
    "* Other_Sales - Preostala prodaja (v milijonih)\n",
    "* Global_Sales - Skupna svetovna prodaja.\n",
    "* Critic_score - Povprečna ocena vseh kritikov\n",
    "* Critic_count - Število kritikov, ki so oddali svojo oceno\n",
    "* User_score - Povprečna ocena vseh uporabnikov\n",
    "* User_count - Število uporabnikov, ki so dali oceno\n",
    "* Developer - Izdelovalec igre\n",
    "* Rating - ESRB starostne kategorije\n"
   ]
  },
  {
   "cell_type": "markdown",
   "metadata": {},
   "source": [
    "**Izpis prvih petih vrstic podatkov**\n",
    "\n",
    "Rank | Name | Platform | Year_of_Release | Genre | Publisher | NA_players | EU_players | JP_players | Other_players | Global_players | Critic_Score | Critic_Count | User_Score | User_Count | Developer | Rating\n",
    "---- | ---- | ---- | ---- | ---- | ---- | ---- | ---- | ---- | ---- | ---- | ---- | ---- | ---- | ---- | ---- | ----\n",
    "1 | Wii Sports | Wii | 2006 | Sports | Nintendo | 41.36 | 28.96 | 3.77 | 8.45 | 82.53 | 76 | 51 | 8 | 322 | Nintendo | E\n",
    "2 | Super Mario Bros. | NES | 1985 | Platform | Nintendo | 29.08 | 3.58 | 6.81 | 0.77 | 40.24 | NA | NA |  | NA |  | \n",
    "3 | Mario Kart Wii | Wii | 2008 | Racing | Nintendo | 15.68 | 12.76 | 3.79 | 3.29 | 35.52 | 82 | 73 | 8.3 | 709 | Nintendo | E\n",
    "4 | Wii Sports Resort | Wii | 2009 | Sports | Nintendo | 15.61 | 10.93 | 3.28 | 2.95 | 32.77 | 80 | 73 | 8 | 192 | Nintendo | E\n",
    "5 | Pokemon Red/Pokemon Blue | GB | 1996 | Role-Playing | Nintendo | 11.27 | 8.89 | 10.22 | 1 | 31.37 | NA | NA |  | NA |  | \n"
   ]
  },
  {
   "cell_type": "markdown",
   "metadata": {},
   "source": [
    "\n",
    "**Pregled števila posameznih atributov**\n",
    "\n",
    "\n",
    "Število platform | Število iger | Število žanrov | Število založnikov | Skupno število prodanih iger (v milijonih)\n",
    "---------------- | ------------ | -------------- | ------------------ | ----------------------------\n",
    "31               | 11563        | 13             | 582                | 8920.3\n"
   ]
  },
  {
   "cell_type": "markdown",
   "metadata": {},
   "source": [
    "## Izvedene analize"
   ]
  },
  {
   "cell_type": "markdown",
   "metadata": {},
   "source": [
    "Povezave do notebookov\n",
    "\n",
    "* [Število iger proizvedenih po letih](https://github.com/mh-developer/PR19MHATMF/blob/master/src/skripte-matej/analiza.ipynb)\n",
    "* [Število iger po žanrih](https://github.com/mh-developer/PR19MHATMF/blob/master/src/skripte-matej/analiza.ipynb)\n",
    "* [Število iger glede na žanr za najbolj zanimive platforme](https://github.com/mh-developer/PR19MHATMF/blob/master/src/skripte-matej/analiza.ipynb)\n",
    "* [Ocene uporabnikov ter kritikov po žanrih](https://github.com/mh-developer/PR19MHATMF/blob/master/src/skripte-mitja/rating%20distributions.ipynb)\n",
    "* [Ocene uporabnikov po platformah](https://github.com/mh-developer/PR19MHATMF/blob/master/src/skripte-mitja/rating%20distributions.ipynb)\n",
    "* [Tržni deleži platform](https://github.com/mh-developer/PR19MHATMF/blob/master/src/skripte-anze/Market%20share%20by%20paltform.ipynb)\n",
    "* [Prodaja vseh iger po državah](https://github.com/mh-developer/PR19MHATMF/blob/master/src/skripte-anze/Choropleth.ipynb)\n",
    "* [Toplotna karta za globalno prodajo, glede na žaner in platforme](https://github.com/mh-developer/PR19MHATMF/blob/master/src/skripte-anze/Heatmap.ipynb)\n",
    "* [Priporočilni sistem za igre](https://github.com/mh-developer/PR19MHATMF/blob/master/src/skripte-mitja/priporocilni-sistem.ipynb)\n"
   ]
  },
  {
   "cell_type": "markdown",
   "metadata": {},
   "source": [
    "\n",
    "**Število iger proizvedenih po letih**\n",
    "\n",
    "Lahko vidimo, da je bil trend rasti do leta 2009, nato pa se je proizvodnja začela upočasnjevati. Razlogi za to so najverjetneje, tudi vzpon pametnih telefonov, saj se je delež razvijalcev preusmeril na razvoj mobilnih iger in aplikacij. Razlog pa bi lahko bil tudi, da so razvijalci začeli izdelovati bolj kvalitetne igre, katere so stalno deležne posodobitev, se pravi, da razvijalci razvijejo igro, ki mora biti kvalitetna, ki jo stalno nadgrajujejo in vpeljujejo novosti, da igra ne postane zastarela in s tem tržijo en produkt. Trend razvoja iger pa gre tudi v smeri iger, kjer imamo več igralcev t.i. “multiplayer” igre.\n",
    "\n",
    "<img src=\"slike/stevilo_iger_proizvedenih_na_leto.png\" alt=\"Število iger proizvedenih na leto\">\n"
   ]
  },
  {
   "cell_type": "markdown",
   "metadata": {},
   "source": [
    "**Število iger po žanrih**\n",
    "\n",
    "S to analizo smo ugotovili, da v podatkih največji delež zasedata žanra športnih ter akcijskih iger, slednji zaseda kar 20% vseh iger. Kar potegne dejstvo za seboj, da sta ta žanra najverjetneje tudi najbolj prodajana v svetovnem merilu, kot bomo videli v nadaljnjih analizah.\n",
    "\n",
    "<img src=\"slike/stevilo_iger_po_žanrih.png\" alt=\"Število iger po žanrih\">"
   ]
  },
  {
   "cell_type": "markdown",
   "metadata": {},
   "source": [
    "**Število iger glede na žanr za najbolj zanimive platforme**\n",
    "\n",
    "V tej analizi smo želeli ugotoviti ali kateri izmed žanrov prevladujejo na posameznih platformah. Izbrali smo 5 platform, ki imajo največ izdanih iger in posledično tudi najbolj raznolike igre. Ugotovili smo, da v kategoriji “Akcijskih” iger kjer je največ proizvedenih iger so si platforme dokaj enakovredne po proizvedenih igrah, medtem ko pri kategoriji “Puzzle” in “Simulation” močno odstopa platforma DS, pri športnih igrah pa platforma PS2. Velik razkorak med platformami pa je tudi pri žanru “Misc”.\n",
    "\n",
    "<img src=\"slike/stevilo_iger_glede_na_zanre_za platforme.png\" alt=\"Število iger glede na žanr za najbolj zanimive platforme\" style=\"width:100%\">"
   ]
  },
  {
   "cell_type": "markdown",
   "metadata": {},
   "source": [
    "**Ocene uporabnikov in kritikov**\n",
    "\n",
    "V tej analizi smo ugotovili, da so si uporabniki najbolj enotni pri ocenah žanra “Puzzle”\n",
    "\n",
    "<img src=\"slike/zanr_ocene_uporabnikov.png\" alt=\"Ocene uporabnikov\" style=\"width:100%\">\n",
    "<img src=\"slike/zanr_ocene_kritikov.png\" alt=\"Ocene kritikov\" style=\"width:100%\">"
   ]
  },
  {
   "cell_type": "markdown",
   "metadata": {},
   "source": [
    "**Tržni deleži platform**\n",
    "\n",
    "Analizirali smo prodajo in število izdanih iger za nekaj najboljših platform. Ugotovili smo, da ne obstaja pravilo, več izdanih iger, večja prodaja, kajti glede na rezultate lahko vidimo pri PS2, da število proizvedenih iger močno odstopa od prodaje, medtem ko pri PS3 pa vidimo, da je bilo proizvedenih iger bolj sorazmerno številu prodanih iger.\n",
    "\n",
    "<img src=\"slike/trzni_delezi.png\" alt=\"Tržni deleži platform\" style=\"width:100%\">"
   ]
  },
  {
   "cell_type": "markdown",
   "metadata": {},
   "source": [
    "**Prodaja vseh iger po državah**\n",
    "\n",
    "V spodnji analizi smo ugotovili, da se največ iger proda v severni Ameriki in to kar 4,4 milijarde iger, kar pomeni, da v povprečju vsak tamkajšnji prebivalec kupi kar 8 iger (prebivalcev severne Amerike 525 milijonov). Na drugem mestu je Evropa z 2,4 milijardami prodanih iger, kar je 3 igre na prebivalca (prebivalcev Evrope 741,4 milijona), nato ji sledi Japonska z 1,2 milijardami prodanih iger, kar je 9 iger na prebivalca (prebivalcev Japonske 126,8 milijona). Iz dobljenih rezultatov lahko razberemo, da na Japonskem igrajo največ iger, tik za njimi pa so Američani.\n",
    "\n",
    "<img src=\"slike/zemljevid_sveta_prodaja.png\" alt=\"Prodaja vseh iger po državah\">"
   ]
  },
  {
   "cell_type": "markdown",
   "metadata": {},
   "source": [
    "**Toplotna karta za globalno prodajo, glede na žaner in platforme**\n",
    "\n",
    "Naredili smo toplotno karto, kjer lahko vidimo korelacije med žanri iger ter platformami po globalni prodaji. Vidimo, da po prodaji najbolj izstopata žanra akcijskih ter športnih iger, medtem ko je najbolj izstopajoča platforma po prodaji, platforma PS2. Imamo platforme, ki imajo presežnike v posameznih žanrih, kot je naprimer Wii, ki ima največjo prodajo v športnih igrah, X360 pa v strelskih igrah, prav tako pa prodaja močno odstopa pri PS3 v akcijskih igrah.\n",
    "\n",
    "<img src=\"slike/heatmap.jpg\" alt=\"Toplotna karta za globalno prodajo, glede na žaner in platforme\">"
   ]
  },
  {
   "cell_type": "markdown",
   "metadata": {},
   "source": [
    "**Priporočilni sistem za igre**\n",
    "\n",
    "Priporočilni sistem smo zasnovali na osnovi ocen uporabnikov, kritikov ter globalne prodaje. Sistem priporoča igre glede na izračun razmerja in uteži. Uporabnikom smo dodelili največjo utež in sicer 50%, razmerje za uporabnike se izračuna glede na število podanih ocen uporabnikov, ter povprečne ocene uporabnikov, prav tako pri kritikih, ki pa imajo 35% utež. Globalni prodaji smo dodelili 15% utež, saj smo predvidevali, da prodaja ne vpliva toliko na izbor igre. Sistem deluje tako, da uporabnik izbere, katero platformo uporablja ter ostale parametre, ki so opcijski, sistem nato na dane omejitve priporoča igre. Sistem smo implementirali v javascriptu in je dostopen na [tej povezavi](https://mh-developer.github.io/PR19MHATMF/src/skripte-mitja/priporocilni-sistem.html)."
   ]
  }
 ],
 "metadata": {
  "kernelspec": {
   "display_name": "Python 3",
   "language": "python",
   "name": "python3"
  },
  "language_info": {
   "codemirror_mode": {
    "name": "ipython",
    "version": 3
   },
   "file_extension": ".py",
   "mimetype": "text/x-python",
   "name": "python",
   "nbconvert_exporter": "python",
   "pygments_lexer": "ipython3",
   "version": "3.7.2"
  },
  "nbTranslate": {
   "displayLangs": [
    "*"
   ],
   "hotkey": "alt-t",
   "langInMainMenu": true,
   "sourceLang": "en",
   "targetLang": "fr",
   "useGoogleTranslate": true
  }
 },
 "nbformat": 4,
 "nbformat_minor": 2
}
