{
 "cells": [
  {
   "cell_type": "markdown",
   "metadata": {},
   "source": [
    "### Tukaj sem pripravil osnovni princip za branje podatkov, ki ga bomo uporabili pri reševanju vprašanj v nadaljevanju bomo samo še uporabili slovar za obdelovanje teh podatkov"
   ]
  },
  {
   "cell_type": "code",
   "execution_count": 2,
   "metadata": {},
   "outputs": [],
   "source": [
    "from csv import DictReader"
   ]
  },
  {
   "cell_type": "code",
   "execution_count": 3,
   "metadata": {},
   "outputs": [
    {
     "name": "stdout",
     "output_type": "stream",
     "text": [
      "Rank: 1\n",
      "Name: Wii Sports\n",
      "Platform: Wii\n",
      "Year: 2006\n",
      "Genre: Sports\n",
      "Publisher: Nintendo\n",
      "NA_Sales: 41.49\n",
      "EU_Sales: 29.02\n",
      "JP_Sales: 3.77\n",
      "Other_Sales: 8.46\n",
      "Global_Sales: 82.74\n"
     ]
    }
   ],
   "source": [
    "videogames_data = {}\n",
    "\n",
    "\n",
    "with open('vgsales.csv', 'rt', encoding='utf-8') as data:\n",
    "    for row in DictReader(data):\n",
    "        videogames_data[row['Rank']] = row\n",
    "                        \n",
    "\n",
    "# Primer branja iz slovarja podatkov\n",
    "for key, value in videogames_data.items():\n",
    "    for atribut, vrednost in value.items():\n",
    "        print(atribut + \": \" + vrednost)\n",
    "    break"
   ]
  }
 ],
 "metadata": {
  "kernelspec": {
   "display_name": "Python 3",
   "language": "python",
   "name": "python3"
  },
  "language_info": {
   "codemirror_mode": {
    "name": "ipython",
    "version": 3
   },
   "file_extension": ".py",
   "mimetype": "text/x-python",
   "name": "python",
   "nbconvert_exporter": "python",
   "pygments_lexer": "ipython3",
   "version": "3.7.2"
  }
 },
 "nbformat": 4,
 "nbformat_minor": 2
}
