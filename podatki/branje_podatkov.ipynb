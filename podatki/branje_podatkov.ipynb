{
 "cells": [
  {
   "cell_type": "markdown",
   "metadata": {},
   "source": [
    "### Tukaj sem pripravil osnovni princip za branje podatkov, ki ga bomo uporabili pri reševanju vprašanj v nadaljevanju bomo samo še uporabili slovar za obdelovanje teh podatkov"
   ]
  },
  {
   "cell_type": "code",
   "execution_count": 1,
   "metadata": {},
   "outputs": [],
   "source": [
    "from csv import DictReader"
   ]
  },
  {
   "cell_type": "code",
   "execution_count": 2,
   "metadata": {},
   "outputs": [
    {
     "name": "stdout",
     "output_type": "stream",
     "text": [
      "Rank: 1\n",
      "Name: Wii Sports\n",
      "Platform: Wii\n",
      "Year_of_Release: 2006\n",
      "Genre: Sports\n",
      "Publisher: Nintendo\n",
      "NA_players: 41.36\n",
      "EU_players: 28.96\n",
      "JP_players: 3.77\n",
      "Other_players: 8.45\n",
      "Global_players: 82.53\n",
      "Critic_Score: 76\n",
      "Critic_Count: 51\n",
      "User_Score: 8\n",
      "User_Count: 322\n",
      "Developer: Nintendo\n",
      "Rating: E\n"
     ]
    }
   ],
   "source": [
    "videogames_data = {}\n",
    "\n",
    "\n",
    "with open('video_game.csv', 'rt', encoding='utf-8') as data:\n",
    "    for row in DictReader(data):\n",
    "        videogames_data[row['Rank']] = row\n",
    "                        \n",
    "\n",
    "# Primer branja iz slovarja podatkov\n",
    "for key, value in videogames_data.items():\n",
    "    for atribut, vrednost in value.items():\n",
    "        print(atribut + \": \" + vrednost)\n",
    "    break"
   ]
  }
 ],
 "metadata": {
  "kernelspec": {
   "display_name": "Python 3",
   "language": "python",
   "name": "python3"
  },
  "language_info": {
   "codemirror_mode": {
    "name": "ipython",
    "version": 3
   },
   "file_extension": ".py",
   "mimetype": "text/x-python",
   "name": "python",
   "nbconvert_exporter": "python",
   "pygments_lexer": "ipython3",
   "version": "3.7.2"
  },
  "nbTranslate": {
   "displayLangs": [
    "*"
   ],
   "hotkey": "alt-t",
   "langInMainMenu": true,
   "sourceLang": "en",
   "targetLang": "fr",
   "useGoogleTranslate": true
  }
 },
 "nbformat": 4,
 "nbformat_minor": 2
}
